{
  "metadata": {
    "language_info": {
      "name": ""
    },
    "kernelspec": {
      "name": "",
      "display_name": ""
    }
  },
  "nbformat_minor": 4,
  "nbformat": 4,
  "cells": [
    {
      "cell_type": "code",
      "source": "python evaluator.py --subnet ../results/cifar10-mbv3-adaptive/iter_0/net_14.subnet --data ../data/cifar10 --dataset cifar10 --n_classes 10 --supernet ./ofa_nets/ofa_eembv3 --pretrained --pmax 2.0 --fmax 100 --amax 5.0 --wp 1 --wf 0.025 --wa 1 --penalty 10000000000 --save ../results/cifar10-mbv3-adaptive/iter_0/net_14.stats --trn_batch_size 128 --vld_batch_size 200 --num_workers 4 --n_epochs 5 --resolution 224 --valid_size 5000 --reset_running_statistics",
      "metadata": {},
      "execution_count": null,
      "outputs": []
    },
    {
      "cell_type": "code",
      "source": "python evaluator.py --subnet ../results/cifar10-mbv3-adaptive/iter_0/net_15.subnet --data ../data/cifar10 --dataset cifar10 --n_classes 10 --supernet ./ofa_nets/ofa_eembv3 --pretrained --pmax 2.0 --fmax 100 --amax 5.0 --wp 1 --wf 0.025 --wa 1 --penalty 10000000000 --save ../results/cifar10-mbv3-adaptive/iter_0/net_15.stats --trn_batch_size 128 --vld_batch_size 200 --num_workers 4 --n_epochs 5 --resolution 224 --valid_size 5000 --reset_running_statistics",
      "metadata": {},
      "execution_count": null,
      "outputs": []
    },
    {
      "cell_type": "code",
      "source": "python evaluator.py --subnet ../results/cifar10-mbv3-adaptive/iter_0/net_16.subnet --data ../data/cifar10 --dataset cifar10 --n_classes 10 --supernet ./ofa_nets/ofa_eembv3 --pretrained --pmax 2.0 --fmax 100 --amax 5.0 --wp 1 --wf 0.025 --wa 1 --penalty 10000000000 --save ../results/cifar10-mbv3-adaptive/iter_0/net_16.stats --trn_batch_size 128 --vld_batch_size 200 --num_workers 4 --n_epochs 5 --resolution 224 --valid_size 5000 --reset_running_statistics",
      "metadata": {},
      "execution_count": null,
      "outputs": []
    },
    {
      "cell_type": "code",
      "source": "python evaluator.py --subnet ../results/cifar10-mbv3-adaptive/iter_0/net_17.subnet --data ../data/cifar10 --dataset cifar10 --n_classes 10 --supernet ./ofa_nets/ofa_eembv3 --pretrained --pmax 2.0 --fmax 100 --amax 5.0 --wp 1 --wf 0.025 --wa 1 --penalty 10000000000 --save ../results/cifar10-mbv3-adaptive/iter_0/net_17.stats --trn_batch_size 128 --vld_batch_size 200 --num_workers 4 --n_epochs 5 --resolution 224 --valid_size 5000 --reset_running_statistics",
      "metadata": {},
      "execution_count": null,
      "outputs": []
    },
    {
      "cell_type": "code",
      "source": "python evaluator.py --subnet ../results/cifar10-mbv3-adaptive/iter_0/net_18.subnet --data ../data/cifar10 --dataset cifar10 --n_classes 10 --supernet ./ofa_nets/ofa_eembv3 --pretrained --pmax 2.0 --fmax 100 --amax 5.0 --wp 1 --wf 0.025 --wa 1 --penalty 10000000000 --save ../results/cifar10-mbv3-adaptive/iter_0/net_18.stats --trn_batch_size 128 --vld_batch_size 200 --num_workers 4 --n_epochs 5 --resolution 224 --valid_size 5000 --reset_running_statistics",
      "metadata": {},
      "execution_count": null,
      "outputs": []
    },
    {
      "cell_type": "code",
      "source": "python evaluator.py --subnet ../results/cifar10-mbv3-adaptive/iter_0/net_19.subnet --data ../data/cifar10 --dataset cifar10 --n_classes 10 --supernet ./ofa_nets/ofa_eembv3 --pretrained --pmax 2.0 --fmax 100 --amax 5.0 --wp 1 --wf 0.025 --wa 1 --penalty 10000000000 --save ../results/cifar10-mbv3-adaptive/iter_0/net_19.stats --trn_batch_size 128 --vld_batch_size 200 --num_workers 4 --n_epochs 5 --resolution 224 --valid_size 5000 --reset_running_statistics",
      "metadata": {},
      "execution_count": null,
      "outputs": []
    },
    {
      "cell_type": "code",
      "source": "python evaluator.py --subnet ../results/cifar10-mbv3-adaptive/iter_0/net_20.subnet --data ../data/cifar10 --dataset cifar10 --n_classes 10 --supernet ./ofa_nets/ofa_eembv3 --pretrained --pmax 2.0 --fmax 100 --amax 5.0 --wp 1 --wf 0.025 --wa 1 --penalty 10000000000 --save ../results/cifar10-mbv3-adaptive/iter_0/net_20.stats --trn_batch_size 128 --vld_batch_size 200 --num_workers 4 --n_epochs 5 --resolution 224 --valid_size 5000 --reset_running_statistics",
      "metadata": {},
      "execution_count": null,
      "outputs": []
    },
    {
      "cell_type": "code",
      "source": "python evaluator.py --subnet ../results/cifar10-mbv3-adaptive/iter_0/net_21.subnet --data ../data/cifar10 --dataset cifar10 --n_classes 10 --supernet ./ofa_nets/ofa_eembv3 --pretrained --pmax 2.0 --fmax 100 --amax 5.0 --wp 1 --wf 0.025 --wa 1 --penalty 10000000000 --save ../results/cifar10-mbv3-adaptive/iter_0/net_21.stats --trn_batch_size 128 --vld_batch_size 200 --num_workers 4 --n_epochs 5 --resolution 224 --valid_size 5000 --reset_running_statistics",
      "metadata": {},
      "execution_count": null,
      "outputs": []
    },
    {
      "cell_type": "code",
      "source": "python evaluator.py --subnet ../results/cifar10-mbv3-adaptive/iter_0/net_22.subnet --data ../data/cifar10 --dataset cifar10 --n_classes 10 --supernet ./ofa_nets/ofa_eembv3 --pretrained --pmax 2.0 --fmax 100 --amax 5.0 --wp 1 --wf 0.025 --wa 1 --penalty 10000000000 --save ../results/cifar10-mbv3-adaptive/iter_0/net_22.stats --trn_batch_size 128 --vld_batch_size 200 --num_workers 4 --n_epochs 5 --resolution 224 --valid_size 5000 --reset_running_statistics",
      "metadata": {},
      "execution_count": null,
      "outputs": []
    },
    {
      "cell_type": "code",
      "source": "python evaluator.py --subnet ../results/cifar10-mbv3-adaptive/iter_0/net_23.subnet --data ../data/cifar10 --dataset cifar10 --n_classes 10 --supernet ./ofa_nets/ofa_eembv3 --pretrained --pmax 2.0 --fmax 100 --amax 5.0 --wp 1 --wf 0.025 --wa 1 --penalty 10000000000 --save ../results/cifar10-mbv3-adaptive/iter_0/net_23.stats --trn_batch_size 128 --vld_batch_size 200 --num_workers 4 --n_epochs 5 --resolution 224 --valid_size 5000 --reset_running_statistics",
      "metadata": {},
      "execution_count": null,
      "outputs": []
    },
    {
      "cell_type": "code",
      "source": "python evaluator.py --subnet ../results/cifar10-mbv3-adaptive/iter_0/net_24.subnet --data ../data/cifar10 --dataset cifar10 --n_classes 10 --supernet ./ofa_nets/ofa_eembv3 --pretrained --pmax 2.0 --fmax 100 --amax 5.0 --wp 1 --wf 0.025 --wa 1 --penalty 10000000000 --save ../results/cifar10-mbv3-adaptive/iter_0/net_24.stats --trn_batch_size 128 --vld_batch_size 200 --num_workers 4 --n_epochs 5 --resolution 224 --valid_size 5000 --reset_running_statistics",
      "metadata": {},
      "execution_count": null,
      "outputs": []
    },
    {
      "cell_type": "code",
      "source": "python evaluator.py --subnet ../results/cifar10-mbv3-adaptive/iter_0/net_25.subnet --data ../data/cifar10 --dataset cifar10 --n_classes 10 --supernet ./ofa_nets/ofa_eembv3 --pretrained --pmax 2.0 --fmax 100 --amax 5.0 --wp 1 --wf 0.025 --wa 1 --penalty 10000000000 --save ../results/cifar10-mbv3-adaptive/iter_0/net_25.stats --trn_batch_size 128 --vld_batch_size 200 --num_workers 4 --n_epochs 5 --resolution 224 --valid_size 5000 --reset_running_statistics",
      "metadata": {},
      "execution_count": null,
      "outputs": []
    },
    {
      "cell_type": "code",
      "source": "python evaluator.py --subnet ../results/cifar10-mbv3-adaptive/iter_0/net_26.subnet --data ../data/cifar10 --dataset cifar10 --n_classes 10 --supernet ./ofa_nets/ofa_eembv3 --pretrained --pmax 2.0 --fmax 100 --amax 5.0 --wp 1 --wf 0.025 --wa 1 --penalty 10000000000 --save ../results/cifar10-mbv3-adaptive/iter_0/net_26.stats --trn_batch_size 128 --vld_batch_size 200 --num_workers 4 --n_epochs 5 --resolution 224 --valid_size 5000 --reset_running_statistics",
      "metadata": {},
      "execution_count": null,
      "outputs": []
    },
    {
      "cell_type": "code",
      "source": "python evaluator.py --subnet ../results/cifar10-mbv3-adaptive/iter_0/net_27.subnet --data ../data/cifar10 --dataset cifar10 --n_classes 10 --supernet ./ofa_nets/ofa_eembv3 --pretrained --pmax 2.0 --fmax 100 --amax 5.0 --wp 1 --wf 0.025 --wa 1 --penalty 10000000000 --save ../results/cifar10-mbv3-adaptive/iter_0/net_27.stats --trn_batch_size 128 --vld_batch_size 200 --num_workers 4 --n_epochs 5 --resolution 224 --valid_size 5000 --reset_running_statistics",
      "metadata": {},
      "execution_count": null,
      "outputs": []
    },
    {
      "cell_type": "code",
      "source": "python evaluator.py --subnet ../results/cifar10-mbv3-adaptive/iter_0/net_28.subnet --data ../data/cifar10 --dataset cifar10 --n_classes 10 --supernet ./ofa_nets/ofa_eembv3 --pretrained --pmax 2.0 --fmax 100 --amax 5.0 --wp 1 --wf 0.025 --wa 1 --penalty 10000000000 --save ../results/cifar10-mbv3-adaptive/iter_0/net_28.stats --trn_batch_size 128 --vld_batch_size 200 --num_workers 4 --n_epochs 5 --resolution 224 --valid_size 5000 --reset_running_statistics",
      "metadata": {},
      "execution_count": null,
      "outputs": []
    },
    {
      "cell_type": "code",
      "source": "python evaluator.py --subnet ../results/cifar10-mbv3-adaptive/iter_0/net_29.subnet --data ../data/cifar10 --dataset cifar10 --n_classes 10 --supernet ./ofa_nets/ofa_eembv3 --pretrained --pmax 2.0 --fmax 100 --amax 5.0 --wp 1 --wf 0.025 --wa 1 --penalty 10000000000 --save ../results/cifar10-mbv3-adaptive/iter_0/net_29.stats --trn_batch_size 128 --vld_batch_size 200 --num_workers 4 --n_epochs 5 --resolution 224 --valid_size 5000 --reset_running_statistics",
      "metadata": {},
      "execution_count": null,
      "outputs": []
    },
    {
      "cell_type": "code",
      "source": "python evaluator.py --subnet ../results/cifar10-mbv3-adaptive/iter_0/net_30.subnet --data ../data/cifar10 --dataset cifar10 --n_classes 10 --supernet ./ofa_nets/ofa_eembv3 --pretrained --pmax 2.0 --fmax 100 --amax 5.0 --wp 1 --wf 0.025 --wa 1 --penalty 10000000000 --save ../results/cifar10-mbv3-adaptive/iter_0/net_30.stats --trn_batch_size 128 --vld_batch_size 200 --num_workers 4 --n_epochs 5 --resolution 224 --valid_size 5000 --reset_running_statistics",
      "metadata": {},
      "execution_count": null,
      "outputs": []
    },
    {
      "cell_type": "code",
      "source": "python evaluator.py --subnet ../results/cifar10-mbv3-adaptive/iter_0/net_31.subnet --data ../data/cifar10 --dataset cifar10 --n_classes 10 --supernet ./ofa_nets/ofa_eembv3 --pretrained --pmax 2.0 --fmax 100 --amax 5.0 --wp 1 --wf 0.025 --wa 1 --penalty 10000000000 --save ../results/cifar10-mbv3-adaptive/iter_0/net_31.stats --trn_batch_size 128 --vld_batch_size 200 --num_workers 4 --n_epochs 5 --resolution 224 --valid_size 5000 --reset_running_statistics",
      "metadata": {},
      "execution_count": null,
      "outputs": []
    },
    {
      "cell_type": "code",
      "source": "python evaluator.py --subnet ../results/cifar10-mbv3-adaptive/iter_0/net_32.subnet --data ../data/cifar10 --dataset cifar10 --n_classes 10 --supernet ./ofa_nets/ofa_eembv3 --pretrained --pmax 2.0 --fmax 100 --amax 5.0 --wp 1 --wf 0.025 --wa 1 --penalty 10000000000 --save ../results/cifar10-mbv3-adaptive/iter_0/net_32.stats --trn_batch_size 128 --vld_batch_size 200 --num_workers 4 --n_epochs 5 --resolution 224 --valid_size 5000 --reset_running_statistics",
      "metadata": {},
      "execution_count": null,
      "outputs": []
    },
    {
      "cell_type": "code",
      "source": "python evaluator.py --subnet ../results/cifar10-mbv3-adaptive/iter_0/net_33.subnet --data ../data/cifar10 --dataset cifar10 --n_classes 10 --supernet ./ofa_nets/ofa_eembv3 --pretrained --pmax 2.0 --fmax 100 --amax 5.0 --wp 1 --wf 0.025 --wa 1 --penalty 10000000000 --save ../results/cifar10-mbv3-adaptive/iter_0/net_33.stats --trn_batch_size 128 --vld_batch_size 200 --num_workers 4 --n_epochs 5 --resolution 224 --valid_size 5000 --reset_running_statistics",
      "metadata": {},
      "execution_count": null,
      "outputs": []
    },
    {
      "cell_type": "code",
      "source": "python evaluator.py --subnet ../results/cifar10-mbv3-adaptive/iter_0/net_34.subnet --data ../data/cifar10 --dataset cifar10 --n_classes 10 --supernet ./ofa_nets/ofa_eembv3 --pretrained --pmax 2.0 --fmax 100 --amax 5.0 --wp 1 --wf 0.025 --wa 1 --penalty 10000000000 --save ../results/cifar10-mbv3-adaptive/iter_0/net_34.stats --trn_batch_size 128 --vld_batch_size 200 --num_workers 4 --n_epochs 5 --resolution 224 --valid_size 5000 --reset_running_statistics",
      "metadata": {},
      "execution_count": null,
      "outputs": []
    },
    {
      "cell_type": "code",
      "source": "python evaluator.py --subnet ../results/cifar10-mbv3-adaptive/iter_0/net_35.subnet --data ../data/cifar10 --dataset cifar10 --n_classes 10 --supernet ./ofa_nets/ofa_eembv3 --pretrained --pmax 2.0 --fmax 100 --amax 5.0 --wp 1 --wf 0.025 --wa 1 --penalty 10000000000 --save ../results/cifar10-mbv3-adaptive/iter_0/net_35.stats --trn_batch_size 128 --vld_batch_size 200 --num_workers 4 --n_epochs 5 --resolution 224 --valid_size 5000 --reset_running_statistics",
      "metadata": {},
      "execution_count": null,
      "outputs": []
    },
    {
      "cell_type": "code",
      "source": "python evaluator.py --subnet ../results/cifar10-mbv3-adaptive/iter_0/net_36.subnet --data ../data/cifar10 --dataset cifar10 --n_classes 10 --supernet ./ofa_nets/ofa_eembv3 --pretrained --pmax 2.0 --fmax 100 --amax 5.0 --wp 1 --wf 0.025 --wa 1 --penalty 10000000000 --save ../results/cifar10-mbv3-adaptive/iter_0/net_36.stats --trn_batch_size 128 --vld_batch_size 200 --num_workers 4 --n_epochs 5 --resolution 224 --valid_size 5000 --reset_running_statistics",
      "metadata": {},
      "execution_count": null,
      "outputs": []
    },
    {
      "cell_type": "code",
      "source": "python evaluator.py --subnet ../results/cifar10-mbv3-adaptive/iter_0/net_37.subnet --data ../data/cifar10 --dataset cifar10 --n_classes 10 --supernet ./ofa_nets/ofa_eembv3 --pretrained --pmax 2.0 --fmax 100 --amax 5.0 --wp 1 --wf 0.025 --wa 1 --penalty 10000000000 --save ../results/cifar10-mbv3-adaptive/iter_0/net_37.stats --trn_batch_size 128 --vld_batch_size 200 --num_workers 4 --n_epochs 5 --resolution 224 --valid_size 5000 --reset_running_statistics",
      "metadata": {},
      "execution_count": null,
      "outputs": []
    },
    {
      "cell_type": "code",
      "source": "python evaluator.py --subnet ../results/cifar10-mbv3-adaptive/iter_0/net_38.subnet --data ../data/cifar10 --dataset cifar10 --n_classes 10 --supernet ./ofa_nets/ofa_eembv3 --pretrained --pmax 2.0 --fmax 100 --amax 5.0 --wp 1 --wf 0.025 --wa 1 --penalty 10000000000 --save ../results/cifar10-mbv3-adaptive/iter_0/net_38.stats --trn_batch_size 128 --vld_batch_size 200 --num_workers 4 --n_epochs 5 --resolution 224 --valid_size 5000 --reset_running_statistics",
      "metadata": {},
      "execution_count": null,
      "outputs": []
    },
    {
      "cell_type": "code",
      "source": "python evaluator.py --subnet ../results/cifar10-mbv3-adaptive/iter_0/net_39.subnet --data ../data/cifar10 --dataset cifar10 --n_classes 10 --supernet ./ofa_nets/ofa_eembv3 --pretrained --pmax 2.0 --fmax 100 --amax 5.0 --wp 1 --wf 0.025 --wa 1 --penalty 10000000000 --save ../results/cifar10-mbv3-adaptive/iter_0/net_39.stats --trn_batch_size 128 --vld_batch_size 200 --num_workers 4 --n_epochs 5 --resolution 224 --valid_size 5000 --reset_running_statistics",
      "metadata": {},
      "execution_count": null,
      "outputs": []
    },
    {
      "cell_type": "code",
      "source": "python evaluator.py --subnet ../results/cifar10-mbv3-adaptive/iter_0/net_40.subnet --data ../data/cifar10 --dataset cifar10 --n_classes 10 --supernet ./ofa_nets/ofa_eembv3 --pretrained --pmax 2.0 --fmax 100 --amax 5.0 --wp 1 --wf 0.025 --wa 1 --penalty 10000000000 --save ../results/cifar10-mbv3-adaptive/iter_0/net_40.stats --trn_batch_size 128 --vld_batch_size 200 --num_workers 4 --n_epochs 5 --resolution 224 --valid_size 5000 --reset_running_statistics",
      "metadata": {},
      "execution_count": null,
      "outputs": []
    },
    {
      "cell_type": "code",
      "source": "python evaluator.py --subnet ../results/cifar10-mbv3-adaptive/iter_0/net_41.subnet --data ../data/cifar10 --dataset cifar10 --n_classes 10 --supernet ./ofa_nets/ofa_eembv3 --pretrained --pmax 2.0 --fmax 100 --amax 5.0 --wp 1 --wf 0.025 --wa 1 --penalty 10000000000 --save ../results/cifar10-mbv3-adaptive/iter_0/net_41.stats --trn_batch_size 128 --vld_batch_size 200 --num_workers 4 --n_epochs 5 --resolution 224 --valid_size 5000 --reset_running_statistics",
      "metadata": {},
      "execution_count": null,
      "outputs": []
    },
    {
      "cell_type": "code",
      "source": "python evaluator.py --subnet ../results/cifar10-mbv3-adaptive/iter_0/net_42.subnet --data ../data/cifar10 --dataset cifar10 --n_classes 10 --supernet ./ofa_nets/ofa_eembv3 --pretrained --pmax 2.0 --fmax 100 --amax 5.0 --wp 1 --wf 0.025 --wa 1 --penalty 10000000000 --save ../results/cifar10-mbv3-adaptive/iter_0/net_42.stats --trn_batch_size 128 --vld_batch_size 200 --num_workers 4 --n_epochs 5 --resolution 224 --valid_size 5000 --reset_running_statistics",
      "metadata": {},
      "execution_count": null,
      "outputs": []
    },
    {
      "cell_type": "code",
      "source": "python evaluator.py --subnet ../results/cifar10-mbv3-adaptive/iter_0/net_43.subnet --data ../data/cifar10 --dataset cifar10 --n_classes 10 --supernet ./ofa_nets/ofa_eembv3 --pretrained --pmax 2.0 --fmax 100 --amax 5.0 --wp 1 --wf 0.025 --wa 1 --penalty 10000000000 --save ../results/cifar10-mbv3-adaptive/iter_0/net_43.stats --trn_batch_size 128 --vld_batch_size 200 --num_workers 4 --n_epochs 5 --resolution 224 --valid_size 5000 --reset_running_statistics",
      "metadata": {},
      "execution_count": null,
      "outputs": []
    }
  ]
}